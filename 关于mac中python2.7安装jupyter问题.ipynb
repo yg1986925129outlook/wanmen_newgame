{
 "cells": [
  {
   "cell_type": "raw",
   "metadata": {},
   "source": [
    "安装\n",
    "\n",
    "> pip install decorator==4.3.2\n",
    "\n",
    "\n",
    "\n",
    "File \"/Users/gy/opt/anaconda3/envs/py27wanmen/lib/python2.7/site-packages/traitlets/config/application.py\", line 13\n",
    "    from __future__ import print_function\n",
    "SyntaxError: from __future__ imports must occur at the beginning of the file\n",
    "\n",
    "文件中添加\n",
    "\n",
    "\n",
    "'''\n",
    "from __future__ import print_function  ## 这段代码文件中有，需把它放到文件最开头位置中\n",
    "\n",
    "import sys\n",
    "\n",
    "reload(sys)\n",
    "\n",
    "sys.setdefaultencoding('utf-8')\n",
    "\n",
    "'''\n",
    "\n",
    "[C 20:50:18.815 NotebookApp] Could not decode '\\xe6\\x9c\\xaa\\xe5\\x91\\xbd\\xe5\\x90\\x8d' for unicode trait 'untitled_notebook' of a LargeFileManager instance.\n",
    "\n",
    "python2.7 虚拟环境命令行中\n",
    "\n",
    "> LANG=zn jupyter-notebook\n",
    "\n",
    "启动jupyter\n",
    "\n"
   ]
  },
  {
   "cell_type": "code",
   "execution_count": null,
   "metadata": {},
   "outputs": [],
   "source": []
  }
 ],
 "metadata": {
  "kernelspec": {
   "display_name": "PyCharm (Colab Notebooks)",
   "language": "python",
   "name": "pycharm-adfa816e"
  },
  "language_info": {
   "codemirror_mode": {
    "name": "ipython",
    "version": 3
   },
   "file_extension": ".py",
   "mimetype": "text/x-python",
   "name": "python",
   "nbconvert_exporter": "python",
   "pygments_lexer": "ipython3",
   "version": "3.9.7"
  }
 },
 "nbformat": 4,
 "nbformat_minor": 2
}
